{
 "cells": [
  {
   "cell_type": "markdown",
   "metadata": {},
   "source": [
    "# problem- D"
   ]
  },
  {
   "cell_type": "code",
   "execution_count": 1,
   "metadata": {},
   "outputs": [
    {
     "name": "stderr",
     "output_type": "stream",
     "text": [
      "Using TensorFlow backend.\n"
     ]
    }
   ],
   "source": [
    "import numpy as np\n",
    "import keras \n",
    "import pandas as pd"
   ]
  },
  {
   "cell_type": "code",
   "execution_count": 2,
   "metadata": {},
   "outputs": [],
   "source": [
    "df=pd.read_csv(r\"C:\\Users\\91755\\Downloads\\concrete_data.csv\")"
   ]
  },
  {
   "cell_type": "code",
   "execution_count": 3,
   "metadata": {},
   "outputs": [
    {
     "data": {
      "text/html": [
       "<div>\n",
       "<style scoped>\n",
       "    .dataframe tbody tr th:only-of-type {\n",
       "        vertical-align: middle;\n",
       "    }\n",
       "\n",
       "    .dataframe tbody tr th {\n",
       "        vertical-align: top;\n",
       "    }\n",
       "\n",
       "    .dataframe thead th {\n",
       "        text-align: right;\n",
       "    }\n",
       "</style>\n",
       "<table border=\"1\" class=\"dataframe\">\n",
       "  <thead>\n",
       "    <tr style=\"text-align: right;\">\n",
       "      <th></th>\n",
       "      <th>Cement</th>\n",
       "      <th>Blast Furnace Slag</th>\n",
       "      <th>Fly Ash</th>\n",
       "      <th>Water</th>\n",
       "      <th>Superplasticizer</th>\n",
       "      <th>Coarse Aggregate</th>\n",
       "      <th>Fine Aggregate</th>\n",
       "      <th>Age</th>\n",
       "      <th>Strength</th>\n",
       "    </tr>\n",
       "  </thead>\n",
       "  <tbody>\n",
       "    <tr>\n",
       "      <td>0</td>\n",
       "      <td>540.0</td>\n",
       "      <td>0.0</td>\n",
       "      <td>0.0</td>\n",
       "      <td>162.0</td>\n",
       "      <td>2.5</td>\n",
       "      <td>1040.0</td>\n",
       "      <td>676.0</td>\n",
       "      <td>28</td>\n",
       "      <td>79.99</td>\n",
       "    </tr>\n",
       "    <tr>\n",
       "      <td>1</td>\n",
       "      <td>540.0</td>\n",
       "      <td>0.0</td>\n",
       "      <td>0.0</td>\n",
       "      <td>162.0</td>\n",
       "      <td>2.5</td>\n",
       "      <td>1055.0</td>\n",
       "      <td>676.0</td>\n",
       "      <td>28</td>\n",
       "      <td>61.89</td>\n",
       "    </tr>\n",
       "    <tr>\n",
       "      <td>2</td>\n",
       "      <td>332.5</td>\n",
       "      <td>142.5</td>\n",
       "      <td>0.0</td>\n",
       "      <td>228.0</td>\n",
       "      <td>0.0</td>\n",
       "      <td>932.0</td>\n",
       "      <td>594.0</td>\n",
       "      <td>270</td>\n",
       "      <td>40.27</td>\n",
       "    </tr>\n",
       "    <tr>\n",
       "      <td>3</td>\n",
       "      <td>332.5</td>\n",
       "      <td>142.5</td>\n",
       "      <td>0.0</td>\n",
       "      <td>228.0</td>\n",
       "      <td>0.0</td>\n",
       "      <td>932.0</td>\n",
       "      <td>594.0</td>\n",
       "      <td>365</td>\n",
       "      <td>41.05</td>\n",
       "    </tr>\n",
       "    <tr>\n",
       "      <td>4</td>\n",
       "      <td>198.6</td>\n",
       "      <td>132.4</td>\n",
       "      <td>0.0</td>\n",
       "      <td>192.0</td>\n",
       "      <td>0.0</td>\n",
       "      <td>978.4</td>\n",
       "      <td>825.5</td>\n",
       "      <td>360</td>\n",
       "      <td>44.30</td>\n",
       "    </tr>\n",
       "    <tr>\n",
       "      <td>5</td>\n",
       "      <td>266.0</td>\n",
       "      <td>114.0</td>\n",
       "      <td>0.0</td>\n",
       "      <td>228.0</td>\n",
       "      <td>0.0</td>\n",
       "      <td>932.0</td>\n",
       "      <td>670.0</td>\n",
       "      <td>90</td>\n",
       "      <td>47.03</td>\n",
       "    </tr>\n",
       "    <tr>\n",
       "      <td>6</td>\n",
       "      <td>380.0</td>\n",
       "      <td>95.0</td>\n",
       "      <td>0.0</td>\n",
       "      <td>228.0</td>\n",
       "      <td>0.0</td>\n",
       "      <td>932.0</td>\n",
       "      <td>594.0</td>\n",
       "      <td>365</td>\n",
       "      <td>43.70</td>\n",
       "    </tr>\n",
       "  </tbody>\n",
       "</table>\n",
       "</div>"
      ],
      "text/plain": [
       "   Cement  Blast Furnace Slag  Fly Ash  Water  Superplasticizer  \\\n",
       "0   540.0                 0.0      0.0  162.0               2.5   \n",
       "1   540.0                 0.0      0.0  162.0               2.5   \n",
       "2   332.5               142.5      0.0  228.0               0.0   \n",
       "3   332.5               142.5      0.0  228.0               0.0   \n",
       "4   198.6               132.4      0.0  192.0               0.0   \n",
       "5   266.0               114.0      0.0  228.0               0.0   \n",
       "6   380.0                95.0      0.0  228.0               0.0   \n",
       "\n",
       "   Coarse Aggregate  Fine Aggregate  Age  Strength  \n",
       "0            1040.0           676.0   28     79.99  \n",
       "1            1055.0           676.0   28     61.89  \n",
       "2             932.0           594.0  270     40.27  \n",
       "3             932.0           594.0  365     41.05  \n",
       "4             978.4           825.5  360     44.30  \n",
       "5             932.0           670.0   90     47.03  \n",
       "6             932.0           594.0  365     43.70  "
      ]
     },
     "execution_count": 3,
     "metadata": {},
     "output_type": "execute_result"
    }
   ],
   "source": [
    "df.head(7)"
   ]
  },
  {
   "cell_type": "code",
   "execution_count": 4,
   "metadata": {},
   "outputs": [],
   "source": [
    "x=df[['Cement', 'Blast Furnace Slag', 'Fly Ash', 'Water', 'Superplasticizer',\n",
    "       'Coarse Aggregate', 'Fine Aggregate', 'Age']]"
   ]
  },
  {
   "cell_type": "code",
   "execution_count": 5,
   "metadata": {},
   "outputs": [],
   "source": [
    "y=df['Strength']"
   ]
  },
  {
   "cell_type": "code",
   "execution_count": 6,
   "metadata": {},
   "outputs": [
    {
     "data": {
      "text/html": [
       "<div>\n",
       "<style scoped>\n",
       "    .dataframe tbody tr th:only-of-type {\n",
       "        vertical-align: middle;\n",
       "    }\n",
       "\n",
       "    .dataframe tbody tr th {\n",
       "        vertical-align: top;\n",
       "    }\n",
       "\n",
       "    .dataframe thead th {\n",
       "        text-align: right;\n",
       "    }\n",
       "</style>\n",
       "<table border=\"1\" class=\"dataframe\">\n",
       "  <thead>\n",
       "    <tr style=\"text-align: right;\">\n",
       "      <th></th>\n",
       "      <th>Cement</th>\n",
       "      <th>Blast Furnace Slag</th>\n",
       "      <th>Fly Ash</th>\n",
       "      <th>Water</th>\n",
       "      <th>Superplasticizer</th>\n",
       "      <th>Coarse Aggregate</th>\n",
       "      <th>Fine Aggregate</th>\n",
       "      <th>Age</th>\n",
       "    </tr>\n",
       "  </thead>\n",
       "  <tbody>\n",
       "    <tr>\n",
       "      <td>0</td>\n",
       "      <td>2.476712</td>\n",
       "      <td>-0.856472</td>\n",
       "      <td>-0.846733</td>\n",
       "      <td>-0.916319</td>\n",
       "      <td>-0.620147</td>\n",
       "      <td>0.862735</td>\n",
       "      <td>-1.217079</td>\n",
       "      <td>-0.279597</td>\n",
       "    </tr>\n",
       "    <tr>\n",
       "      <td>1</td>\n",
       "      <td>2.476712</td>\n",
       "      <td>-0.856472</td>\n",
       "      <td>-0.846733</td>\n",
       "      <td>-0.916319</td>\n",
       "      <td>-0.620147</td>\n",
       "      <td>1.055651</td>\n",
       "      <td>-1.217079</td>\n",
       "      <td>-0.279597</td>\n",
       "    </tr>\n",
       "    <tr>\n",
       "      <td>2</td>\n",
       "      <td>0.491187</td>\n",
       "      <td>0.795140</td>\n",
       "      <td>-0.846733</td>\n",
       "      <td>2.174405</td>\n",
       "      <td>-1.038638</td>\n",
       "      <td>-0.526262</td>\n",
       "      <td>-2.239829</td>\n",
       "      <td>3.551340</td>\n",
       "    </tr>\n",
       "    <tr>\n",
       "      <td>3</td>\n",
       "      <td>0.491187</td>\n",
       "      <td>0.795140</td>\n",
       "      <td>-0.846733</td>\n",
       "      <td>2.174405</td>\n",
       "      <td>-1.038638</td>\n",
       "      <td>-0.526262</td>\n",
       "      <td>-2.239829</td>\n",
       "      <td>5.055221</td>\n",
       "    </tr>\n",
       "    <tr>\n",
       "      <td>4</td>\n",
       "      <td>-0.790075</td>\n",
       "      <td>0.678079</td>\n",
       "      <td>-0.846733</td>\n",
       "      <td>0.488555</td>\n",
       "      <td>-1.038638</td>\n",
       "      <td>0.070492</td>\n",
       "      <td>0.647569</td>\n",
       "      <td>4.976069</td>\n",
       "    </tr>\n",
       "  </tbody>\n",
       "</table>\n",
       "</div>"
      ],
      "text/plain": [
       "     Cement  Blast Furnace Slag   Fly Ash     Water  Superplasticizer  \\\n",
       "0  2.476712           -0.856472 -0.846733 -0.916319         -0.620147   \n",
       "1  2.476712           -0.856472 -0.846733 -0.916319         -0.620147   \n",
       "2  0.491187            0.795140 -0.846733  2.174405         -1.038638   \n",
       "3  0.491187            0.795140 -0.846733  2.174405         -1.038638   \n",
       "4 -0.790075            0.678079 -0.846733  0.488555         -1.038638   \n",
       "\n",
       "   Coarse Aggregate  Fine Aggregate       Age  \n",
       "0          0.862735       -1.217079 -0.279597  \n",
       "1          1.055651       -1.217079 -0.279597  \n",
       "2         -0.526262       -2.239829  3.551340  \n",
       "3         -0.526262       -2.239829  5.055221  \n",
       "4          0.070492        0.647569  4.976069  "
      ]
     },
     "execution_count": 6,
     "metadata": {},
     "output_type": "execute_result"
    }
   ],
   "source": [
    "x=((x-x.mean())/x.std())\n",
    "x.head()"
   ]
  },
  {
   "cell_type": "code",
   "execution_count": 7,
   "metadata": {},
   "outputs": [],
   "source": [
    "from keras.models import Sequential as seq\n",
    "from keras.layers import Flatten,Dense,Activation"
   ]
  },
  {
   "cell_type": "code",
   "execution_count": 8,
   "metadata": {},
   "outputs": [],
   "source": [
    "\n",
    "from sklearn.model_selection import train_test_split as tts\n",
    "from sklearn.metrics import mean_squared_error as mse\n"
   ]
  },
  {
   "cell_type": "code",
   "execution_count": 9,
   "metadata": {},
   "outputs": [],
   "source": [
    "model=seq()   #creating model object\n",
    "model.add(Dense(10,activation='relu',input_shape=(8,)))\n",
    "model.add(Dense(10,activation='relu'))\n",
    "model.add(Dense(10,activation='relu'))\n",
    "model.add(Dense(1))\n",
    "model.compile(optimizer='adam',loss='mean_squared_error',metrics=['accuracy'])  #compiling the model\n",
    "\n"
   ]
  },
  {
   "cell_type": "code",
   "execution_count": 10,
   "metadata": {},
   "outputs": [],
   "source": [
    "x_train,x_test,y_train,y_test=tts(x,y,test_size=0.3,random_state=3)"
   ]
  },
  {
   "cell_type": "code",
   "execution_count": 11,
   "metadata": {},
   "outputs": [
    {
     "name": "stdout",
     "output_type": "stream",
     "text": [
      "Epoch 1/50\n",
      "721/721 [==============================] - 0s 169us/step - loss: 1537.7383 - accuracy: 0.0000e+00\n",
      "Epoch 2/50\n",
      "721/721 [==============================] - 0s 33us/step - loss: 1514.2409 - accuracy: 0.0000e+00\n",
      "Epoch 3/50\n",
      "721/721 [==============================] - 0s 37us/step - loss: 1477.0847 - accuracy: 0.0000e+00\n",
      "Epoch 4/50\n",
      "721/721 [==============================] - 0s 32us/step - loss: 1419.8942 - accuracy: 0.0000e+00\n",
      "Epoch 5/50\n",
      "721/721 [==============================] - 0s 37us/step - loss: 1331.5026 - accuracy: 0.0000e+00\n",
      "Epoch 6/50\n",
      "721/721 [==============================] - 0s 33us/step - loss: 1198.3900 - accuracy: 0.0014\n",
      "Epoch 7/50\n",
      "721/721 [==============================] - 0s 39us/step - loss: 1009.4095 - accuracy: 0.0000e+00\n",
      "Epoch 8/50\n",
      "721/721 [==============================] - 0s 50us/step - loss: 768.6719 - accuracy: 0.0000e+00\n",
      "Epoch 9/50\n",
      "721/721 [==============================] - 0s 32us/step - loss: 526.3789 - accuracy: 0.0000e+00\n",
      "Epoch 10/50\n",
      "721/721 [==============================] - 0s 36us/step - loss: 360.3682 - accuracy: 0.0000e+00\n",
      "Epoch 11/50\n",
      "721/721 [==============================] - 0s 33us/step - loss: 275.9065 - accuracy: 0.0000e+00\n",
      "Epoch 12/50\n",
      "721/721 [==============================] - 0s 35us/step - loss: 234.2825 - accuracy: 0.0000e+00\n",
      "Epoch 13/50\n",
      "721/721 [==============================] - 0s 40us/step - loss: 211.8520 - accuracy: 0.0000e+00\n",
      "Epoch 14/50\n",
      "721/721 [==============================] - 0s 40us/step - loss: 198.2248 - accuracy: 0.0000e+00\n",
      "Epoch 15/50\n",
      "721/721 [==============================] - 0s 41us/step - loss: 189.2411 - accuracy: 0.0000e+00\n",
      "Epoch 16/50\n",
      "721/721 [==============================] - 0s 35us/step - loss: 182.3159 - accuracy: 0.0000e+00\n",
      "Epoch 17/50\n",
      "721/721 [==============================] - 0s 36us/step - loss: 176.8775 - accuracy: 0.0000e+00\n",
      "Epoch 18/50\n",
      "721/721 [==============================] - 0s 36us/step - loss: 171.7343 - accuracy: 0.0000e+00\n",
      "Epoch 19/50\n",
      "721/721 [==============================] - 0s 35us/step - loss: 167.4217 - accuracy: 0.0000e+00\n",
      "Epoch 20/50\n",
      "721/721 [==============================] - 0s 35us/step - loss: 163.5279 - accuracy: 0.0014\n",
      "Epoch 21/50\n",
      "721/721 [==============================] - 0s 41us/step - loss: 159.4391 - accuracy: 0.0014\n",
      "Epoch 22/50\n",
      "721/721 [==============================] - 0s 47us/step - loss: 156.0785 - accuracy: 0.0000e+00\n",
      "Epoch 23/50\n",
      "721/721 [==============================] - 0s 59us/step - loss: 152.7627 - accuracy: 0.0000e+00\n",
      "Epoch 24/50\n",
      "721/721 [==============================] - 0s 57us/step - loss: 149.9227 - accuracy: 0.0000e+00\n",
      "Epoch 25/50\n",
      "721/721 [==============================] - 0s 43us/step - loss: 147.2863 - accuracy: 0.0000e+00\n",
      "Epoch 26/50\n",
      "721/721 [==============================] - 0s 32us/step - loss: 144.6625 - accuracy: 0.0000e+00\n",
      "Epoch 27/50\n",
      "721/721 [==============================] - 0s 40us/step - loss: 142.3534 - accuracy: 0.0000e+00\n",
      "Epoch 28/50\n",
      "721/721 [==============================] - 0s 40us/step - loss: 139.7511 - accuracy: 0.0000e+00\n",
      "Epoch 29/50\n",
      "721/721 [==============================] - 0s 40us/step - loss: 137.7144 - accuracy: 0.0000e+00\n",
      "Epoch 30/50\n",
      "721/721 [==============================] - 0s 35us/step - loss: 135.7101 - accuracy: 0.0000e+00\n",
      "Epoch 31/50\n",
      "721/721 [==============================] - 0s 47us/step - loss: 133.7746 - accuracy: 0.0000e+00\n",
      "Epoch 32/50\n",
      "721/721 [==============================] - 0s 36us/step - loss: 132.2868 - accuracy: 0.0000e+00\n",
      "Epoch 33/50\n",
      "721/721 [==============================] - 0s 40us/step - loss: 129.9863 - accuracy: 0.0000e+00\n",
      "Epoch 34/50\n",
      "721/721 [==============================] - 0s 40us/step - loss: 127.8093 - accuracy: 0.0000e+00\n",
      "Epoch 35/50\n",
      "721/721 [==============================] - 0s 39us/step - loss: 125.8397 - accuracy: 0.0000e+00\n",
      "Epoch 36/50\n",
      "721/721 [==============================] - 0s 35us/step - loss: 124.1342 - accuracy: 0.0000e+00\n",
      "Epoch 37/50\n",
      "721/721 [==============================] - 0s 50us/step - loss: 122.3549 - accuracy: 0.0000e+00\n",
      "Epoch 38/50\n",
      "721/721 [==============================] - 0s 40us/step - loss: 120.7283 - accuracy: 0.0000e+00\n",
      "Epoch 39/50\n",
      "721/721 [==============================] - 0s 41us/step - loss: 118.9686 - accuracy: 0.0000e+00\n",
      "Epoch 40/50\n",
      "721/721 [==============================] - 0s 40us/step - loss: 117.4334 - accuracy: 0.0000e+00\n",
      "Epoch 41/50\n",
      "721/721 [==============================] - 0s 46us/step - loss: 116.0982 - accuracy: 0.0000e+00\n",
      "Epoch 42/50\n",
      "721/721 [==============================] - 0s 44us/step - loss: 114.5111 - accuracy: 0.0000e+00\n",
      "Epoch 43/50\n",
      "721/721 [==============================] - 0s 39us/step - loss: 113.3415 - accuracy: 0.0000e+00\n",
      "Epoch 44/50\n",
      "721/721 [==============================] - 0s 35us/step - loss: 112.1184 - accuracy: 0.0000e+00\n",
      "Epoch 45/50\n",
      "721/721 [==============================] - 0s 35us/step - loss: 110.6403 - accuracy: 0.0000e+00\n",
      "Epoch 46/50\n",
      "721/721 [==============================] - 0s 41us/step - loss: 110.2750 - accuracy: 0.0014\n",
      "Epoch 47/50\n",
      "721/721 [==============================] - 0s 40us/step - loss: 108.6332 - accuracy: 0.0000e+00\n",
      "Epoch 48/50\n",
      "721/721 [==============================] - 0s 37us/step - loss: 107.7958 - accuracy: 0.0000e+00\n",
      "Epoch 49/50\n",
      "721/721 [==============================] - 0s 35us/step - loss: 106.5755 - accuracy: 0.0000e+00\n",
      "Epoch 50/50\n",
      "721/721 [==============================] - 0s 37us/step - loss: 105.7784 - accuracy: 0.0000e+00\n"
     ]
    },
    {
     "data": {
      "text/plain": [
       "<keras.callbacks.callbacks.History at 0x15611d57108>"
      ]
     },
     "execution_count": 11,
     "metadata": {},
     "output_type": "execute_result"
    }
   ],
   "source": [
    "model.fit(x_train,y_train,epochs=50,verbose=1)"
   ]
  },
  {
   "cell_type": "code",
   "execution_count": 12,
   "metadata": {},
   "outputs": [
    {
     "name": "stdout",
     "output_type": "stream",
     "text": [
      "309/309 [==============================] - 0s 71us/step\n"
     ]
    },
    {
     "data": {
      "text/plain": [
       "[123.8958212596313, 0.0]"
      ]
     },
     "execution_count": 12,
     "metadata": {},
     "output_type": "execute_result"
    }
   ],
   "source": [
    "y_pred=model.predict(x_test)\n",
    "model.evaluate(x_test,y_test )\n"
   ]
  },
  {
   "cell_type": "code",
   "execution_count": 13,
   "metadata": {},
   "outputs": [
    {
     "name": "stdout",
     "output_type": "stream",
     "text": [
      "123.89581991422885\n"
     ]
    }
   ],
   "source": [
    "mse1=mse(y_test,y_pred)\n",
    "print(mse1)\n",
    "# mean squared error \n",
    "\n",
    "\n"
   ]
  },
  {
   "cell_type": "code",
   "execution_count": 14,
   "metadata": {},
   "outputs": [
    {
     "name": "stdout",
     "output_type": "stream",
     "text": [
      "MSE 1: [76.5714347987499, 0.0]\n",
      "MSE 2: [73.21799940584548, 0.0032362460624426603]\n",
      "MSE 3: [36.83995206764987, 0.0]\n",
      "MSE 4: [43.142912682591906, 0.0]\n",
      "MSE 5: [38.243733785684825, 0.0]\n",
      "MSE 6: [37.414887635067444, 0.0]\n",
      "MSE 7: [39.54229728920946, 0.0]\n",
      "MSE 8: [32.031329361752015, 0.0032362460624426603]\n",
      "MSE 9: [31.23774097035232, 0.0]\n",
      "MSE 10: [28.71468443392164, 0.0]\n",
      "MSE 11: [26.868693219033645, 0.0]\n",
      "MSE 12: [23.879049004860295, 0.006472492124885321]\n",
      "MSE 13: [33.339113661386435, 0.0032362460624426603]\n",
      "MSE 14: [31.887033493387662, 0.0]\n",
      "MSE 15: [26.98720544981725, 0.0032362460624426603]\n",
      "MSE 16: [21.67543224223609, 0.0]\n",
      "MSE 17: [24.05288690733678, 0.0]\n",
      "MSE 18: [24.265065933894185, 0.0]\n",
      "MSE 19: [22.211212170548425, 0.0]\n",
      "MSE 20: [26.650433981688664, 0.0032362460624426603]\n",
      "MSE 21: [22.302048803533165, 0.0032362460624426603]\n",
      "MSE 22: [23.44003387253647, 0.0]\n",
      "MSE 23: [21.882925731078707, 0.0]\n",
      "MSE 24: [22.323607744136673, 0.0]\n",
      "MSE 25: [22.725859546352744, 0.0]\n",
      "MSE 26: [25.25975077977844, 0.0]\n",
      "MSE 27: [20.650520982094182, 0.0]\n",
      "MSE 28: [22.22926578089643, 0.0032362460624426603]\n",
      "MSE 29: [25.044566614342354, 0.0]\n",
      "MSE 30: [19.518104763092733, 0.0032362460624426603]\n",
      "MSE 31: [19.029849296248848, 0.0]\n",
      "MSE 32: [17.796240862133434, 0.0]\n",
      "MSE 33: [19.701831188016726, 0.006472492124885321]\n",
      "MSE 34: [22.14121885824358, 0.0]\n",
      "MSE 35: [24.813547980052366, 0.0]\n",
      "MSE 36: [27.358046497727674, 0.0]\n",
      "MSE 37: [18.31748669201502, 0.0]\n",
      "MSE 38: [19.24195352572839, 0.0]\n",
      "MSE 39: [22.77855031775811, 0.0]\n",
      "MSE 40: [19.32521865745964, 0.0]\n",
      "MSE 41: [21.585057681432435, 0.0]\n",
      "MSE 42: [17.932903777434216, 0.006472492124885321]\n",
      "MSE 43: [20.606918532485714, 0.006472492124885321]\n",
      "MSE 44: [22.994985771796465, 0.0]\n",
      "MSE 45: [22.26007047980349, 0.0]\n",
      "MSE 46: [19.454447341968326, 0.006472492124885321]\n",
      "MSE 47: [17.922971805708308, 0.0032362460624426603]\n",
      "MSE 48: [18.01826399892665, 0.0032362460624426603]\n",
      "MSE 49: [19.530617673806002, 0.0]\n",
      "MSE 50: [18.98620755464128, 0.0]\n"
     ]
    }
   ],
   "source": [
    "mse_l=[]\n",
    "for i in range(0,50):\n",
    "    x_train,x_test,y_train,y_test=tts(x,y,test_size=0.3,random_state=i)\n",
    "    model.fit(x_train,y_train,epochs=50,verbose=0)\n",
    "    MSE=model.evaluate(x_test,y_test,verbose=0)\n",
    "    print(\"MSE \"+str(i+1)+\": \"+str(MSE))\n",
    "    y_pred=model.predict(x_test)\n",
    "    mse_=mse(y_test,y_pred)\n",
    "    mse_l.append(mse_)\n",
    "\n",
    "\n",
    "    \n",
    "    "
   ]
  },
  {
   "cell_type": "code",
   "execution_count": 15,
   "metadata": {},
   "outputs": [
    {
     "name": "stdout",
     "output_type": "stream",
     "text": [
      "18.986207147167633 \n",
      " \n",
      " 0.0\n"
     ]
    }
   ],
   "source": [
    "mse_l = np.array(mse_)\n",
    "mean = np.mean(mse_l)\n",
    "standard_deviation = np.std(mse_l)\n",
    "print(mean,'\\n','\\n', standard_deviation)"
   ]
  },
  {
   "cell_type": "markdown",
   "metadata": {},
   "source": [
    "# the error is decreased by a great margin, this is infact the lowest out of all the 4 problems."
   ]
  },
  {
   "cell_type": "code",
   "execution_count": null,
   "metadata": {},
   "outputs": [],
   "source": []
  }
 ],
 "metadata": {
  "kernelspec": {
   "display_name": "Python 3",
   "language": "python",
   "name": "python3"
  },
  "language_info": {
   "codemirror_mode": {
    "name": "ipython",
    "version": 3
   },
   "file_extension": ".py",
   "mimetype": "text/x-python",
   "name": "python",
   "nbconvert_exporter": "python",
   "pygments_lexer": "ipython3",
   "version": "3.7.4"
  }
 },
 "nbformat": 4,
 "nbformat_minor": 2
}
