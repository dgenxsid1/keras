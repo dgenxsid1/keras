{
 "cells": [
  {
   "cell_type": "markdown",
   "metadata": {},
   "source": [
    "# problem- B"
   ]
  },
  {
   "cell_type": "code",
   "execution_count": 1,
   "metadata": {},
   "outputs": [
    {
     "name": "stderr",
     "output_type": "stream",
     "text": [
      "Using TensorFlow backend.\n"
     ]
    }
   ],
   "source": [
    "import numpy as np\n",
    "import keras \n",
    "import pandas as pd"
   ]
  },
  {
   "cell_type": "code",
   "execution_count": 2,
   "metadata": {},
   "outputs": [],
   "source": [
    "df=pd.read_csv(r\"C:\\Users\\91755\\Downloads\\concrete_data.csv\")"
   ]
  },
  {
   "cell_type": "code",
   "execution_count": 3,
   "metadata": {},
   "outputs": [
    {
     "data": {
      "text/html": [
       "<div>\n",
       "<style scoped>\n",
       "    .dataframe tbody tr th:only-of-type {\n",
       "        vertical-align: middle;\n",
       "    }\n",
       "\n",
       "    .dataframe tbody tr th {\n",
       "        vertical-align: top;\n",
       "    }\n",
       "\n",
       "    .dataframe thead th {\n",
       "        text-align: right;\n",
       "    }\n",
       "</style>\n",
       "<table border=\"1\" class=\"dataframe\">\n",
       "  <thead>\n",
       "    <tr style=\"text-align: right;\">\n",
       "      <th></th>\n",
       "      <th>Cement</th>\n",
       "      <th>Blast Furnace Slag</th>\n",
       "      <th>Fly Ash</th>\n",
       "      <th>Water</th>\n",
       "      <th>Superplasticizer</th>\n",
       "      <th>Coarse Aggregate</th>\n",
       "      <th>Fine Aggregate</th>\n",
       "      <th>Age</th>\n",
       "      <th>Strength</th>\n",
       "    </tr>\n",
       "  </thead>\n",
       "  <tbody>\n",
       "    <tr>\n",
       "      <td>0</td>\n",
       "      <td>540.0</td>\n",
       "      <td>0.0</td>\n",
       "      <td>0.0</td>\n",
       "      <td>162.0</td>\n",
       "      <td>2.5</td>\n",
       "      <td>1040.0</td>\n",
       "      <td>676.0</td>\n",
       "      <td>28</td>\n",
       "      <td>79.99</td>\n",
       "    </tr>\n",
       "    <tr>\n",
       "      <td>1</td>\n",
       "      <td>540.0</td>\n",
       "      <td>0.0</td>\n",
       "      <td>0.0</td>\n",
       "      <td>162.0</td>\n",
       "      <td>2.5</td>\n",
       "      <td>1055.0</td>\n",
       "      <td>676.0</td>\n",
       "      <td>28</td>\n",
       "      <td>61.89</td>\n",
       "    </tr>\n",
       "    <tr>\n",
       "      <td>2</td>\n",
       "      <td>332.5</td>\n",
       "      <td>142.5</td>\n",
       "      <td>0.0</td>\n",
       "      <td>228.0</td>\n",
       "      <td>0.0</td>\n",
       "      <td>932.0</td>\n",
       "      <td>594.0</td>\n",
       "      <td>270</td>\n",
       "      <td>40.27</td>\n",
       "    </tr>\n",
       "    <tr>\n",
       "      <td>3</td>\n",
       "      <td>332.5</td>\n",
       "      <td>142.5</td>\n",
       "      <td>0.0</td>\n",
       "      <td>228.0</td>\n",
       "      <td>0.0</td>\n",
       "      <td>932.0</td>\n",
       "      <td>594.0</td>\n",
       "      <td>365</td>\n",
       "      <td>41.05</td>\n",
       "    </tr>\n",
       "    <tr>\n",
       "      <td>4</td>\n",
       "      <td>198.6</td>\n",
       "      <td>132.4</td>\n",
       "      <td>0.0</td>\n",
       "      <td>192.0</td>\n",
       "      <td>0.0</td>\n",
       "      <td>978.4</td>\n",
       "      <td>825.5</td>\n",
       "      <td>360</td>\n",
       "      <td>44.30</td>\n",
       "    </tr>\n",
       "    <tr>\n",
       "      <td>5</td>\n",
       "      <td>266.0</td>\n",
       "      <td>114.0</td>\n",
       "      <td>0.0</td>\n",
       "      <td>228.0</td>\n",
       "      <td>0.0</td>\n",
       "      <td>932.0</td>\n",
       "      <td>670.0</td>\n",
       "      <td>90</td>\n",
       "      <td>47.03</td>\n",
       "    </tr>\n",
       "    <tr>\n",
       "      <td>6</td>\n",
       "      <td>380.0</td>\n",
       "      <td>95.0</td>\n",
       "      <td>0.0</td>\n",
       "      <td>228.0</td>\n",
       "      <td>0.0</td>\n",
       "      <td>932.0</td>\n",
       "      <td>594.0</td>\n",
       "      <td>365</td>\n",
       "      <td>43.70</td>\n",
       "    </tr>\n",
       "  </tbody>\n",
       "</table>\n",
       "</div>"
      ],
      "text/plain": [
       "   Cement  Blast Furnace Slag  Fly Ash  Water  Superplasticizer  \\\n",
       "0   540.0                 0.0      0.0  162.0               2.5   \n",
       "1   540.0                 0.0      0.0  162.0               2.5   \n",
       "2   332.5               142.5      0.0  228.0               0.0   \n",
       "3   332.5               142.5      0.0  228.0               0.0   \n",
       "4   198.6               132.4      0.0  192.0               0.0   \n",
       "5   266.0               114.0      0.0  228.0               0.0   \n",
       "6   380.0                95.0      0.0  228.0               0.0   \n",
       "\n",
       "   Coarse Aggregate  Fine Aggregate  Age  Strength  \n",
       "0            1040.0           676.0   28     79.99  \n",
       "1            1055.0           676.0   28     61.89  \n",
       "2             932.0           594.0  270     40.27  \n",
       "3             932.0           594.0  365     41.05  \n",
       "4             978.4           825.5  360     44.30  \n",
       "5             932.0           670.0   90     47.03  \n",
       "6             932.0           594.0  365     43.70  "
      ]
     },
     "execution_count": 3,
     "metadata": {},
     "output_type": "execute_result"
    }
   ],
   "source": [
    "df.head(7)"
   ]
  },
  {
   "cell_type": "code",
   "execution_count": 4,
   "metadata": {},
   "outputs": [],
   "source": [
    "x=df[['Cement', 'Blast Furnace Slag', 'Fly Ash', 'Water', 'Superplasticizer',\n",
    "       'Coarse Aggregate', 'Fine Aggregate', 'Age']]"
   ]
  },
  {
   "cell_type": "code",
   "execution_count": 5,
   "metadata": {},
   "outputs": [],
   "source": [
    "y=df['Strength']"
   ]
  },
  {
   "cell_type": "code",
   "execution_count": 13,
   "metadata": {},
   "outputs": [
    {
     "data": {
      "text/html": [
       "<div>\n",
       "<style scoped>\n",
       "    .dataframe tbody tr th:only-of-type {\n",
       "        vertical-align: middle;\n",
       "    }\n",
       "\n",
       "    .dataframe tbody tr th {\n",
       "        vertical-align: top;\n",
       "    }\n",
       "\n",
       "    .dataframe thead th {\n",
       "        text-align: right;\n",
       "    }\n",
       "</style>\n",
       "<table border=\"1\" class=\"dataframe\">\n",
       "  <thead>\n",
       "    <tr style=\"text-align: right;\">\n",
       "      <th></th>\n",
       "      <th>Cement</th>\n",
       "      <th>Blast Furnace Slag</th>\n",
       "      <th>Fly Ash</th>\n",
       "      <th>Water</th>\n",
       "      <th>Superplasticizer</th>\n",
       "      <th>Coarse Aggregate</th>\n",
       "      <th>Fine Aggregate</th>\n",
       "      <th>Age</th>\n",
       "    </tr>\n",
       "  </thead>\n",
       "  <tbody>\n",
       "    <tr>\n",
       "      <td>0</td>\n",
       "      <td>2.476712</td>\n",
       "      <td>-0.856472</td>\n",
       "      <td>-0.846733</td>\n",
       "      <td>-0.916319</td>\n",
       "      <td>-0.620147</td>\n",
       "      <td>0.862735</td>\n",
       "      <td>-1.217079</td>\n",
       "      <td>-0.279597</td>\n",
       "    </tr>\n",
       "    <tr>\n",
       "      <td>1</td>\n",
       "      <td>2.476712</td>\n",
       "      <td>-0.856472</td>\n",
       "      <td>-0.846733</td>\n",
       "      <td>-0.916319</td>\n",
       "      <td>-0.620147</td>\n",
       "      <td>1.055651</td>\n",
       "      <td>-1.217079</td>\n",
       "      <td>-0.279597</td>\n",
       "    </tr>\n",
       "    <tr>\n",
       "      <td>2</td>\n",
       "      <td>0.491187</td>\n",
       "      <td>0.795140</td>\n",
       "      <td>-0.846733</td>\n",
       "      <td>2.174405</td>\n",
       "      <td>-1.038638</td>\n",
       "      <td>-0.526262</td>\n",
       "      <td>-2.239829</td>\n",
       "      <td>3.551340</td>\n",
       "    </tr>\n",
       "    <tr>\n",
       "      <td>3</td>\n",
       "      <td>0.491187</td>\n",
       "      <td>0.795140</td>\n",
       "      <td>-0.846733</td>\n",
       "      <td>2.174405</td>\n",
       "      <td>-1.038638</td>\n",
       "      <td>-0.526262</td>\n",
       "      <td>-2.239829</td>\n",
       "      <td>5.055221</td>\n",
       "    </tr>\n",
       "    <tr>\n",
       "      <td>4</td>\n",
       "      <td>-0.790075</td>\n",
       "      <td>0.678079</td>\n",
       "      <td>-0.846733</td>\n",
       "      <td>0.488555</td>\n",
       "      <td>-1.038638</td>\n",
       "      <td>0.070492</td>\n",
       "      <td>0.647569</td>\n",
       "      <td>4.976069</td>\n",
       "    </tr>\n",
       "  </tbody>\n",
       "</table>\n",
       "</div>"
      ],
      "text/plain": [
       "     Cement  Blast Furnace Slag   Fly Ash     Water  Superplasticizer  \\\n",
       "0  2.476712           -0.856472 -0.846733 -0.916319         -0.620147   \n",
       "1  2.476712           -0.856472 -0.846733 -0.916319         -0.620147   \n",
       "2  0.491187            0.795140 -0.846733  2.174405         -1.038638   \n",
       "3  0.491187            0.795140 -0.846733  2.174405         -1.038638   \n",
       "4 -0.790075            0.678079 -0.846733  0.488555         -1.038638   \n",
       "\n",
       "   Coarse Aggregate  Fine Aggregate       Age  \n",
       "0          0.862735       -1.217079 -0.279597  \n",
       "1          1.055651       -1.217079 -0.279597  \n",
       "2         -0.526262       -2.239829  3.551340  \n",
       "3         -0.526262       -2.239829  5.055221  \n",
       "4          0.070492        0.647569  4.976069  "
      ]
     },
     "execution_count": 13,
     "metadata": {},
     "output_type": "execute_result"
    }
   ],
   "source": [
    "x=((x-x.mean())/x.std())\n",
    "x.head()"
   ]
  },
  {
   "cell_type": "code",
   "execution_count": null,
   "metadata": {},
   "outputs": [],
   "source": [
    "from keras.models import Sequential as seq\n",
    "from keras.layers import Flatten,Dense,Activation"
   ]
  },
  {
   "cell_type": "code",
   "execution_count": 16,
   "metadata": {},
   "outputs": [],
   "source": [
    "\n",
    "from sklearn.model_selection import train_test_split as tts\n",
    "from sklearn.metrics import mean_squared_error as mse\n"
   ]
  },
  {
   "cell_type": "code",
   "execution_count": 17,
   "metadata": {},
   "outputs": [],
   "source": [
    "model=seq()   #creating model object\n",
    "model.add(Dense(10,activation='relu',input_shape=(8,)))\n",
    "model.add(Dense(1))\n",
    "model.compile(optimizer='adam',loss='mean_squared_error',metrics=['accuracy'])  #compiling the model\n",
    "\n"
   ]
  },
  {
   "cell_type": "code",
   "execution_count": 18,
   "metadata": {},
   "outputs": [],
   "source": [
    "x_train,x_test,y_train,y_test=tts(x,y,test_size=0.3,random_state=3)"
   ]
  },
  {
   "cell_type": "code",
   "execution_count": 19,
   "metadata": {},
   "outputs": [
    {
     "name": "stdout",
     "output_type": "stream",
     "text": [
      "Epoch 1/50\n",
      "721/721 [==============================] - 0s 118us/step - loss: 1568.9912 - accuracy: 0.0000e+00\n",
      "Epoch 2/50\n",
      "721/721 [==============================] - 0s 29us/step - loss: 1550.3424 - accuracy: 0.0000e+00\n",
      "Epoch 3/50\n",
      "721/721 [==============================] - 0s 30us/step - loss: 1532.2117 - accuracy: 0.0000e+00\n",
      "Epoch 4/50\n",
      "721/721 [==============================] - 0s 36us/step - loss: 1514.7310 - accuracy: 0.0000e+00\n",
      "Epoch 5/50\n",
      "721/721 [==============================] - 0s 35us/step - loss: 1497.2791 - accuracy: 0.0000e+00\n",
      "Epoch 6/50\n",
      "721/721 [==============================] - 0s 42us/step - loss: 1480.0114 - accuracy: 0.0000e+00\n",
      "Epoch 7/50\n",
      "721/721 [==============================] - 0s 35us/step - loss: 1462.2626 - accuracy: 0.0000e+00\n",
      "Epoch 8/50\n",
      "721/721 [==============================] - 0s 24us/step - loss: 1444.9572 - accuracy: 0.0000e+00\n",
      "Epoch 9/50\n",
      "721/721 [==============================] - 0s 32us/step - loss: 1426.7956 - accuracy: 0.0000e+00\n",
      "Epoch 10/50\n",
      "721/721 [==============================] - 0s 30us/step - loss: 1408.5376 - accuracy: 0.0000e+00\n",
      "Epoch 11/50\n",
      "721/721 [==============================] - 0s 33us/step - loss: 1389.4761 - accuracy: 0.0000e+00\n",
      "Epoch 12/50\n",
      "721/721 [==============================] - 0s 36us/step - loss: 1369.7806 - accuracy: 0.0000e+00\n",
      "Epoch 13/50\n",
      "721/721 [==============================] - 0s 36us/step - loss: 1349.2654 - accuracy: 0.0000e+00\n",
      "Epoch 14/50\n",
      "721/721 [==============================] - 0s 24us/step - loss: 1327.7946 - accuracy: 0.0000e+00\n",
      "Epoch 15/50\n",
      "721/721 [==============================] - 0s 32us/step - loss: 1304.7990 - accuracy: 0.0000e+00\n",
      "Epoch 16/50\n",
      "721/721 [==============================] - 0s 21us/step - loss: 1281.4853 - accuracy: 0.0000e+00\n",
      "Epoch 17/50\n",
      "721/721 [==============================] - 0s 29us/step - loss: 1256.4978 - accuracy: 0.0000e+00\n",
      "Epoch 18/50\n",
      "721/721 [==============================] - 0s 32us/step - loss: 1230.6414 - accuracy: 0.0000e+00\n",
      "Epoch 19/50\n",
      "721/721 [==============================] - 0s 33us/step - loss: 1203.7385 - accuracy: 0.0000e+00\n",
      "Epoch 20/50\n",
      "721/721 [==============================] - 0s 32us/step - loss: 1175.4062 - accuracy: 0.0000e+00\n",
      "Epoch 21/50\n",
      "721/721 [==============================] - 0s 30us/step - loss: 1146.4581 - accuracy: 0.0000e+00\n",
      "Epoch 22/50\n",
      "721/721 [==============================] - 0s 30us/step - loss: 1117.1241 - accuracy: 0.0000e+00\n",
      "Epoch 23/50\n",
      "721/721 [==============================] - 0s 32us/step - loss: 1086.7685 - accuracy: 0.0000e+00\n",
      "Epoch 24/50\n",
      "721/721 [==============================] - 0s 35us/step - loss: 1056.5972 - accuracy: 0.0000e+00\n",
      "Epoch 25/50\n",
      "721/721 [==============================] - 0s 25us/step - loss: 1024.9779 - accuracy: 0.0000e+00\n",
      "Epoch 26/50\n",
      "721/721 [==============================] - 0s 35us/step - loss: 994.3397 - accuracy: 0.0000e+00\n",
      "Epoch 27/50\n",
      "721/721 [==============================] - 0s 26us/step - loss: 963.1886 - accuracy: 0.0000e+00\n",
      "Epoch 28/50\n",
      "721/721 [==============================] - 0s 32us/step - loss: 932.2393 - accuracy: 0.0000e+00\n",
      "Epoch 29/50\n",
      "721/721 [==============================] - 0s 21us/step - loss: 901.6342 - accuracy: 0.0000e+00\n",
      "Epoch 30/50\n",
      "721/721 [==============================] - 0s 30us/step - loss: 870.9724 - accuracy: 0.0000e+00\n",
      "Epoch 31/50\n",
      "721/721 [==============================] - 0s 30us/step - loss: 841.1834 - accuracy: 0.0000e+00\n",
      "Epoch 32/50\n",
      "721/721 [==============================] - 0s 36us/step - loss: 811.2072 - accuracy: 0.0000e+00\n",
      "Epoch 33/50\n",
      "721/721 [==============================] - 0s 44us/step - loss: 782.5880 - accuracy: 0.0000e+00\n",
      "Epoch 34/50\n",
      "721/721 [==============================] - 0s 39us/step - loss: 754.1328 - accuracy: 0.0000e+00\n",
      "Epoch 35/50\n",
      "721/721 [==============================] - 0s 29us/step - loss: 726.4754 - accuracy: 0.0000e+00\n",
      "Epoch 36/50\n",
      "721/721 [==============================] - 0s 23us/step - loss: 699.8709 - accuracy: 0.0000e+00\n",
      "Epoch 37/50\n",
      "721/721 [==============================] - 0s 32us/step - loss: 673.4106 - accuracy: 0.0000e+00\n",
      "Epoch 38/50\n",
      "721/721 [==============================] - 0s 37us/step - loss: 648.6028 - accuracy: 0.0000e+00\n",
      "Epoch 39/50\n",
      "721/721 [==============================] - 0s 32us/step - loss: 624.3061 - accuracy: 0.0000e+00\n",
      "Epoch 40/50\n",
      "721/721 [==============================] - 0s 33us/step - loss: 600.6486 - accuracy: 0.0000e+00\n",
      "Epoch 41/50\n",
      "721/721 [==============================] - 0s 30us/step - loss: 577.7476 - accuracy: 0.0000e+00\n",
      "Epoch 42/50\n",
      "721/721 [==============================] - 0s 35us/step - loss: 556.0928 - accuracy: 0.0000e+00\n",
      "Epoch 43/50\n",
      "721/721 [==============================] - 0s 35us/step - loss: 535.1566 - accuracy: 0.0000e+00\n",
      "Epoch 44/50\n",
      "721/721 [==============================] - 0s 33us/step - loss: 514.9540 - accuracy: 0.0000e+00\n",
      "Epoch 45/50\n",
      "721/721 [==============================] - 0s 36us/step - loss: 495.9424 - accuracy: 0.0000e+00\n",
      "Epoch 46/50\n",
      "721/721 [==============================] - 0s 33us/step - loss: 477.4477 - accuracy: 0.0000e+00\n",
      "Epoch 47/50\n",
      "721/721 [==============================] - 0s 33us/step - loss: 459.9913 - accuracy: 0.0000e+00\n",
      "Epoch 48/50\n",
      "721/721 [==============================] - 0s 32us/step - loss: 443.5974 - accuracy: 0.0000e+00\n",
      "Epoch 49/50\n",
      "721/721 [==============================] - 0s 35us/step - loss: 427.2128 - accuracy: 0.0000e+00\n",
      "Epoch 50/50\n",
      "721/721 [==============================] - 0s 36us/step - loss: 411.7144 - accuracy: 0.0000e+00\n"
     ]
    },
    {
     "data": {
      "text/plain": [
       "<keras.callbacks.callbacks.History at 0x184a70551c8>"
      ]
     },
     "execution_count": 19,
     "metadata": {},
     "output_type": "execute_result"
    }
   ],
   "source": [
    "model.fit(x_train,y_train,epochs=50,verbose=1)"
   ]
  },
  {
   "cell_type": "code",
   "execution_count": 20,
   "metadata": {},
   "outputs": [
    {
     "name": "stdout",
     "output_type": "stream",
     "text": [
      "309/309 [==============================] - 0s 52us/step\n"
     ]
    },
    {
     "data": {
      "text/plain": [
       "[421.07382597197994, 0.0]"
      ]
     },
     "execution_count": 20,
     "metadata": {},
     "output_type": "execute_result"
    }
   ],
   "source": [
    "y_pred=model.predict(x_test)\n",
    "model.evaluate(x_test,y_test )\n"
   ]
  },
  {
   "cell_type": "code",
   "execution_count": 21,
   "metadata": {},
   "outputs": [
    {
     "name": "stdout",
     "output_type": "stream",
     "text": [
      "421.0738208588777\n"
     ]
    }
   ],
   "source": [
    "mse1=mse(y_test,y_pred)\n",
    "print(mse1)\n",
    "# mean squared error \n",
    "\n",
    "\n"
   ]
  },
  {
   "cell_type": "code",
   "execution_count": 22,
   "metadata": {},
   "outputs": [
    {
     "name": "stdout",
     "output_type": "stream",
     "text": [
      "MSE 1: [144.5491820647107, 0.0]\n",
      "MSE 2: [132.07172075290126, 0.0]\n",
      "MSE 3: [87.33404169422137, 0.0]\n",
      "MSE 4: [75.20181000348434, 0.0]\n",
      "MSE 5: [66.59603174450328, 0.0]\n",
      "MSE 6: [63.62810304018286, 0.0]\n",
      "MSE 7: [61.81231012930762, 0.0]\n",
      "MSE 8: [42.46856459830571, 0.0]\n",
      "MSE 9: [44.772629623659995, 0.0]\n",
      "MSE 10: [47.89593830540728, 0.0]\n",
      "MSE 11: [41.35381313435082, 0.0]\n",
      "MSE 12: [38.17034538046828, 0.0032362460624426603]\n",
      "MSE 13: [46.536427321943265, 0.0]\n",
      "MSE 14: [41.4952269248592, 0.006472492124885321]\n",
      "MSE 15: [37.11023977582123, 0.0032362460624426603]\n",
      "MSE 16: [32.844688088376934, 0.0032362460624426603]\n",
      "MSE 17: [36.84208483526236, 0.0032362460624426603]\n",
      "MSE 18: [34.24080161677981, 0.0032362460624426603]\n",
      "MSE 19: [35.4272794754374, 0.0]\n",
      "MSE 20: [36.502286386335555, 0.006472492124885321]\n",
      "MSE 21: [34.20372609258855, 0.0]\n",
      "MSE 22: [32.756113910366416, 0.006472492124885321]\n",
      "MSE 23: [32.22232650707455, 0.0]\n",
      "MSE 24: [34.386364365858554, 0.0032362460624426603]\n",
      "MSE 25: [34.05586401930133, 0.012944984249770641]\n",
      "MSE 26: [38.78925521011106, 0.006472492124885321]\n",
      "MSE 27: [33.190316987269135, 0.0]\n",
      "MSE 28: [34.29387395050148, 0.006472492124885321]\n",
      "MSE 29: [34.820105296508395, 0.0032362460624426603]\n",
      "MSE 30: [35.01493223122409, 0.0032362460624426603]\n",
      "MSE 31: [32.69111735766759, 0.0032362460624426603]\n",
      "MSE 32: [29.68731879879356, 0.0032362460624426603]\n",
      "MSE 33: [34.61480559808923, 0.009708737954497337]\n",
      "MSE 34: [32.57321778084468, 0.006472492124885321]\n",
      "MSE 35: [32.83936771528621, 0.0032362460624426603]\n",
      "MSE 36: [41.08057031970966, 0.0032362460624426603]\n",
      "MSE 37: [29.26043017859598, 0.0032362460624426603]\n",
      "MSE 38: [36.8531266246413, 0.0032362460624426603]\n",
      "MSE 39: [35.578076470631224, 0.0]\n",
      "MSE 40: [29.640022351903824, 0.0032362460624426603]\n",
      "MSE 41: [33.782739238060024, 0.0032362460624426603]\n",
      "MSE 42: [30.52812841717865, 0.006472492124885321]\n",
      "MSE 43: [31.020816463482806, 0.0032362460624426603]\n",
      "MSE 44: [35.90453173196046, 0.0032362460624426603]\n",
      "MSE 45: [37.04257721885509, 0.006472492124885321]\n",
      "MSE 46: [31.953928357960724, 0.0]\n",
      "MSE 47: [31.883857690014885, 0.0]\n",
      "MSE 48: [34.65489042461111, 0.0032362460624426603]\n",
      "MSE 49: [33.49854744599475, 0.0]\n",
      "MSE 50: [33.44576970813344, 0.006472492124885321]\n"
     ]
    }
   ],
   "source": [
    "mse_l=[]\n",
    "for i in range(0,50):\n",
    "    x_train,x_test,y_train,y_test=tts(x,y,test_size=0.3,random_state=i)\n",
    "    model.fit(x_train,y_train,epochs=50,verbose=0)\n",
    "    MSE=model.evaluate(x_test,y_test,verbose=0)\n",
    "    print(\"MSE \"+str(i+1)+\": \"+str(MSE))\n",
    "    y_pred=model.predict(x_test)\n",
    "    mse_=mse(y_test,y_pred)\n",
    "    mse_l.append(mse_)\n",
    "\n",
    "\n",
    "    \n",
    "    "
   ]
  },
  {
   "cell_type": "code",
   "execution_count": 23,
   "metadata": {},
   "outputs": [
    {
     "name": "stdout",
     "output_type": "stream",
     "text": [
      "33.44576951447899 \n",
      " \n",
      " 0.0\n"
     ]
    }
   ],
   "source": [
    "mse_l = np.array(mse_)\n",
    "mean = np.mean(mse_l)\n",
    "standard_deviation = np.std(mse_l)\n",
    "print(mean,'\\n','\\n', standard_deviation)"
   ]
  },
  {
   "cell_type": "markdown",
   "metadata": {},
   "source": [
    "# the error is less in compared to problem-A"
   ]
  },
  {
   "cell_type": "code",
   "execution_count": null,
   "metadata": {},
   "outputs": [],
   "source": []
  }
 ],
 "metadata": {
  "kernelspec": {
   "display_name": "Python 3",
   "language": "python",
   "name": "python3"
  },
  "language_info": {
   "codemirror_mode": {
    "name": "ipython",
    "version": 3
   },
   "file_extension": ".py",
   "mimetype": "text/x-python",
   "name": "python",
   "nbconvert_exporter": "python",
   "pygments_lexer": "ipython3",
   "version": "3.7.4"
  }
 },
 "nbformat": 4,
 "nbformat_minor": 2
}
