{
 "cells": [
  {
   "cell_type": "markdown",
   "metadata": {},
   "source": [
    "# problem -A"
   ]
  },
  {
   "cell_type": "code",
   "execution_count": 1,
   "metadata": {},
   "outputs": [
    {
     "name": "stderr",
     "output_type": "stream",
     "text": [
      "Using TensorFlow backend.\n"
     ]
    }
   ],
   "source": [
    "import numpy as np\n",
    "import keras \n",
    "import pandas as pd"
   ]
  },
  {
   "cell_type": "code",
   "execution_count": null,
   "metadata": {},
   "outputs": [],
   "source": []
  },
  {
   "cell_type": "code",
   "execution_count": 2,
   "metadata": {},
   "outputs": [],
   "source": [
    "df=pd.read_csv(r\"C:\\Users\\91755\\Downloads\\concrete_data.csv\")"
   ]
  },
  {
   "cell_type": "code",
   "execution_count": 3,
   "metadata": {},
   "outputs": [
    {
     "data": {
      "text/html": [
       "<div>\n",
       "<style scoped>\n",
       "    .dataframe tbody tr th:only-of-type {\n",
       "        vertical-align: middle;\n",
       "    }\n",
       "\n",
       "    .dataframe tbody tr th {\n",
       "        vertical-align: top;\n",
       "    }\n",
       "\n",
       "    .dataframe thead th {\n",
       "        text-align: right;\n",
       "    }\n",
       "</style>\n",
       "<table border=\"1\" class=\"dataframe\">\n",
       "  <thead>\n",
       "    <tr style=\"text-align: right;\">\n",
       "      <th></th>\n",
       "      <th>Cement</th>\n",
       "      <th>Blast Furnace Slag</th>\n",
       "      <th>Fly Ash</th>\n",
       "      <th>Water</th>\n",
       "      <th>Superplasticizer</th>\n",
       "      <th>Coarse Aggregate</th>\n",
       "      <th>Fine Aggregate</th>\n",
       "      <th>Age</th>\n",
       "      <th>Strength</th>\n",
       "    </tr>\n",
       "  </thead>\n",
       "  <tbody>\n",
       "    <tr>\n",
       "      <td>0</td>\n",
       "      <td>540.0</td>\n",
       "      <td>0.0</td>\n",
       "      <td>0.0</td>\n",
       "      <td>162.0</td>\n",
       "      <td>2.5</td>\n",
       "      <td>1040.0</td>\n",
       "      <td>676.0</td>\n",
       "      <td>28</td>\n",
       "      <td>79.99</td>\n",
       "    </tr>\n",
       "    <tr>\n",
       "      <td>1</td>\n",
       "      <td>540.0</td>\n",
       "      <td>0.0</td>\n",
       "      <td>0.0</td>\n",
       "      <td>162.0</td>\n",
       "      <td>2.5</td>\n",
       "      <td>1055.0</td>\n",
       "      <td>676.0</td>\n",
       "      <td>28</td>\n",
       "      <td>61.89</td>\n",
       "    </tr>\n",
       "    <tr>\n",
       "      <td>2</td>\n",
       "      <td>332.5</td>\n",
       "      <td>142.5</td>\n",
       "      <td>0.0</td>\n",
       "      <td>228.0</td>\n",
       "      <td>0.0</td>\n",
       "      <td>932.0</td>\n",
       "      <td>594.0</td>\n",
       "      <td>270</td>\n",
       "      <td>40.27</td>\n",
       "    </tr>\n",
       "    <tr>\n",
       "      <td>3</td>\n",
       "      <td>332.5</td>\n",
       "      <td>142.5</td>\n",
       "      <td>0.0</td>\n",
       "      <td>228.0</td>\n",
       "      <td>0.0</td>\n",
       "      <td>932.0</td>\n",
       "      <td>594.0</td>\n",
       "      <td>365</td>\n",
       "      <td>41.05</td>\n",
       "    </tr>\n",
       "    <tr>\n",
       "      <td>4</td>\n",
       "      <td>198.6</td>\n",
       "      <td>132.4</td>\n",
       "      <td>0.0</td>\n",
       "      <td>192.0</td>\n",
       "      <td>0.0</td>\n",
       "      <td>978.4</td>\n",
       "      <td>825.5</td>\n",
       "      <td>360</td>\n",
       "      <td>44.30</td>\n",
       "    </tr>\n",
       "    <tr>\n",
       "      <td>5</td>\n",
       "      <td>266.0</td>\n",
       "      <td>114.0</td>\n",
       "      <td>0.0</td>\n",
       "      <td>228.0</td>\n",
       "      <td>0.0</td>\n",
       "      <td>932.0</td>\n",
       "      <td>670.0</td>\n",
       "      <td>90</td>\n",
       "      <td>47.03</td>\n",
       "    </tr>\n",
       "    <tr>\n",
       "      <td>6</td>\n",
       "      <td>380.0</td>\n",
       "      <td>95.0</td>\n",
       "      <td>0.0</td>\n",
       "      <td>228.0</td>\n",
       "      <td>0.0</td>\n",
       "      <td>932.0</td>\n",
       "      <td>594.0</td>\n",
       "      <td>365</td>\n",
       "      <td>43.70</td>\n",
       "    </tr>\n",
       "  </tbody>\n",
       "</table>\n",
       "</div>"
      ],
      "text/plain": [
       "   Cement  Blast Furnace Slag  Fly Ash  Water  Superplasticizer  \\\n",
       "0   540.0                 0.0      0.0  162.0               2.5   \n",
       "1   540.0                 0.0      0.0  162.0               2.5   \n",
       "2   332.5               142.5      0.0  228.0               0.0   \n",
       "3   332.5               142.5      0.0  228.0               0.0   \n",
       "4   198.6               132.4      0.0  192.0               0.0   \n",
       "5   266.0               114.0      0.0  228.0               0.0   \n",
       "6   380.0                95.0      0.0  228.0               0.0   \n",
       "\n",
       "   Coarse Aggregate  Fine Aggregate  Age  Strength  \n",
       "0            1040.0           676.0   28     79.99  \n",
       "1            1055.0           676.0   28     61.89  \n",
       "2             932.0           594.0  270     40.27  \n",
       "3             932.0           594.0  365     41.05  \n",
       "4             978.4           825.5  360     44.30  \n",
       "5             932.0           670.0   90     47.03  \n",
       "6             932.0           594.0  365     43.70  "
      ]
     },
     "execution_count": 3,
     "metadata": {},
     "output_type": "execute_result"
    }
   ],
   "source": [
    "df.head(7)"
   ]
  },
  {
   "cell_type": "markdown",
   "metadata": {},
   "source": [
    "df.columns"
   ]
  },
  {
   "cell_type": "code",
   "execution_count": 4,
   "metadata": {},
   "outputs": [],
   "source": [
    "x=df[['Cement', 'Blast Furnace Slag', 'Fly Ash', 'Water', 'Superplasticizer',\n",
    "       'Coarse Aggregate', 'Fine Aggregate', 'Age']]"
   ]
  },
  {
   "cell_type": "code",
   "execution_count": 5,
   "metadata": {},
   "outputs": [],
   "source": [
    "y=df['Strength']"
   ]
  },
  {
   "cell_type": "code",
   "execution_count": 6,
   "metadata": {},
   "outputs": [],
   "source": [
    "from keras.models import Sequential as seq\n",
    "from keras.layers import Flatten,Dense,Activation"
   ]
  },
  {
   "cell_type": "code",
   "execution_count": 7,
   "metadata": {},
   "outputs": [],
   "source": [
    "model=seq()   #creating model object\n",
    "model.add(Dense(10,activation='relu',input_shape=(8,)))\n",
    "model.add(Dense(1))\n",
    "model.compile(optimizer='adam',loss='mean_squared_error',metrics=['accuracy'])  #compiling the model\n",
    "\n"
   ]
  },
  {
   "cell_type": "code",
   "execution_count": 9,
   "metadata": {},
   "outputs": [],
   "source": [
    "\n",
    "from sklearn.model_selection import train_test_split as tts\n",
    "from sklearn.metrics import mean_squared_error as mse\n"
   ]
  },
  {
   "cell_type": "code",
   "execution_count": 10,
   "metadata": {},
   "outputs": [],
   "source": [
    "x_train,x_test,y_train,y_test=tts(x,y,test_size=0.3,random_state=3)"
   ]
  },
  {
   "cell_type": "code",
   "execution_count": 11,
   "metadata": {},
   "outputs": [
    {
     "name": "stdout",
     "output_type": "stream",
     "text": [
      "Epoch 1/50\n",
      "721/721 [==============================] - 0s 126us/step - loss: 14827.8121 - accuracy: 0.0000e+00\n",
      "Epoch 2/50\n",
      "721/721 [==============================] - 0s 33us/step - loss: 2874.7900 - accuracy: 0.0000e+00\n",
      "Epoch 3/50\n",
      "721/721 [==============================] - 0s 29us/step - loss: 2290.3543 - accuracy: 0.0000e+00\n",
      "Epoch 4/50\n",
      "721/721 [==============================] - 0s 29us/step - loss: 1872.2501 - accuracy: 0.0000e+00\n",
      "Epoch 5/50\n",
      "721/721 [==============================] - 0s 32us/step - loss: 1527.0058 - accuracy: 0.0000e+00\n",
      "Epoch 6/50\n",
      "721/721 [==============================] - 0s 29us/step - loss: 1200.8945 - accuracy: 0.0000e+00\n",
      "Epoch 7/50\n",
      "721/721 [==============================] - 0s 30us/step - loss: 911.6360 - accuracy: 0.0000e+00\n",
      "Epoch 8/50\n",
      "721/721 [==============================] - 0s 29us/step - loss: 726.7040 - accuracy: 0.0000e+00\n",
      "Epoch 9/50\n",
      "721/721 [==============================] - 0s 28us/step - loss: 626.2035 - accuracy: 0.0028\n",
      "Epoch 10/50\n",
      "721/721 [==============================] - 0s 36us/step - loss: 558.9177 - accuracy: 0.0014\n",
      "Epoch 11/50\n",
      "721/721 [==============================] - 0s 33us/step - loss: 508.9778 - accuracy: 0.0000e+00\n",
      "Epoch 12/50\n",
      "721/721 [==============================] - 0s 32us/step - loss: 466.3445 - accuracy: 0.0000e+00\n",
      "Epoch 13/50\n",
      "721/721 [==============================] - 0s 28us/step - loss: 433.4815 - accuracy: 0.0000e+00\n",
      "Epoch 14/50\n",
      "721/721 [==============================] - 0s 29us/step - loss: 400.7903 - accuracy: 0.0000e+00\n",
      "Epoch 15/50\n",
      "721/721 [==============================] - 0s 30us/step - loss: 376.6305 - accuracy: 0.0000e+00\n",
      "Epoch 16/50\n",
      "721/721 [==============================] - 0s 28us/step - loss: 355.2207 - accuracy: 0.0014\n",
      "Epoch 17/50\n",
      "721/721 [==============================] - 0s 29us/step - loss: 336.2949 - accuracy: 0.0000e+00\n",
      "Epoch 18/50\n",
      "721/721 [==============================] - 0s 35us/step - loss: 319.1006 - accuracy: 0.0000e+00\n",
      "Epoch 19/50\n",
      "721/721 [==============================] - 0s 30us/step - loss: 305.2675 - accuracy: 0.0000e+00\n",
      "Epoch 20/50\n",
      "721/721 [==============================] - 0s 33us/step - loss: 291.3271 - accuracy: 0.0000e+00\n",
      "Epoch 21/50\n",
      "721/721 [==============================] - 0s 28us/step - loss: 281.0531 - accuracy: 0.0000e+00\n",
      "Epoch 22/50\n",
      "721/721 [==============================] - 0s 33us/step - loss: 271.6486 - accuracy: 0.0000e+00\n",
      "Epoch 23/50\n",
      "721/721 [==============================] - 0s 28us/step - loss: 262.1029 - accuracy: 0.0000e+00\n",
      "Epoch 24/50\n",
      "721/721 [==============================] - 0s 29us/step - loss: 255.4508 - accuracy: 0.0000e+00\n",
      "Epoch 25/50\n",
      "721/721 [==============================] - 0s 33us/step - loss: 247.7797 - accuracy: 0.0000e+00\n",
      "Epoch 26/50\n",
      "721/721 [==============================] - 0s 29us/step - loss: 241.5506 - accuracy: 0.0000e+00\n",
      "Epoch 27/50\n",
      "721/721 [==============================] - 0s 29us/step - loss: 235.4308 - accuracy: 0.0000e+00\n",
      "Epoch 28/50\n",
      "721/721 [==============================] - 0s 28us/step - loss: 229.2353 - accuracy: 0.0000e+00\n",
      "Epoch 29/50\n",
      "721/721 [==============================] - 0s 30us/step - loss: 223.9027 - accuracy: 0.0000e+00\n",
      "Epoch 30/50\n",
      "721/721 [==============================] - 0s 33us/step - loss: 219.0215 - accuracy: 0.0000e+00\n",
      "Epoch 31/50\n",
      "721/721 [==============================] - 0s 29us/step - loss: 215.2230 - accuracy: 0.0000e+00\n",
      "Epoch 32/50\n",
      "721/721 [==============================] - 0s 29us/step - loss: 210.0621 - accuracy: 0.0000e+00\n",
      "Epoch 33/50\n",
      "721/721 [==============================] - 0s 28us/step - loss: 206.2126 - accuracy: 0.0014\n",
      "Epoch 34/50\n",
      "721/721 [==============================] - 0s 30us/step - loss: 202.3884 - accuracy: 0.0000e+00\n",
      "Epoch 35/50\n",
      "721/721 [==============================] - 0s 33us/step - loss: 199.7264 - accuracy: 0.0014\n",
      "Epoch 36/50\n",
      "721/721 [==============================] - 0s 30us/step - loss: 195.0721 - accuracy: 0.0014\n",
      "Epoch 37/50\n",
      "721/721 [==============================] - 0s 37us/step - loss: 191.9071 - accuracy: 0.0014\n",
      "Epoch 38/50\n",
      "721/721 [==============================] - 0s 30us/step - loss: 188.3792 - accuracy: 0.0000e+00\n",
      "Epoch 39/50\n",
      "721/721 [==============================] - 0s 32us/step - loss: 185.6645 - accuracy: 0.0000e+00\n",
      "Epoch 40/50\n",
      "721/721 [==============================] - 0s 29us/step - loss: 181.9683 - accuracy: 0.0014\n",
      "Epoch 41/50\n",
      "721/721 [==============================] - 0s 29us/step - loss: 179.5623 - accuracy: 0.0014\n",
      "Epoch 42/50\n",
      "721/721 [==============================] - 0s 30us/step - loss: 176.7154 - accuracy: 0.0014\n",
      "Epoch 43/50\n",
      "721/721 [==============================] - 0s 30us/step - loss: 174.3445 - accuracy: 0.0000e+00\n",
      "Epoch 44/50\n",
      "721/721 [==============================] - 0s 41us/step - loss: 172.7122 - accuracy: 0.0014\n",
      "Epoch 45/50\n",
      "721/721 [==============================] - 0s 41us/step - loss: 169.5537 - accuracy: 0.0014\n",
      "Epoch 46/50\n",
      "721/721 [==============================] - 0s 26us/step - loss: 166.8457 - accuracy: 0.0000e+00\n",
      "Epoch 47/50\n",
      "721/721 [==============================] - 0s 35us/step - loss: 166.3244 - accuracy: 0.0000e+00\n",
      "Epoch 48/50\n",
      "721/721 [==============================] - 0s 29us/step - loss: 163.1797 - accuracy: 0.0000e+00\n",
      "Epoch 49/50\n",
      "721/721 [==============================] - 0s 35us/step - loss: 159.7122 - accuracy: 0.0000e+00\n",
      "Epoch 50/50\n",
      "721/721 [==============================] - 0s 30us/step - loss: 158.1020 - accuracy: 0.0000e+00\n"
     ]
    },
    {
     "data": {
      "text/plain": [
       "<keras.callbacks.callbacks.History at 0x1e72eacf948>"
      ]
     },
     "execution_count": 11,
     "metadata": {},
     "output_type": "execute_result"
    }
   ],
   "source": [
    "model.fit(x_train,y_train,epochs=50,verbose=1)"
   ]
  },
  {
   "cell_type": "code",
   "execution_count": 12,
   "metadata": {},
   "outputs": [
    {
     "name": "stdout",
     "output_type": "stream",
     "text": [
      "309/309 [==============================] - 0s 42us/step\n"
     ]
    },
    {
     "data": {
      "text/plain": [
       "[168.91718514451702, 0.0]"
      ]
     },
     "execution_count": 12,
     "metadata": {},
     "output_type": "execute_result"
    }
   ],
   "source": [
    "y_pred=model.predict(x_test)\n",
    "model.evaluate(x_test,y_test )\n"
   ]
  },
  {
   "cell_type": "code",
   "execution_count": 13,
   "metadata": {},
   "outputs": [],
   "source": [
    "y_test=y_test.astype('float32')    "
   ]
  },
  {
   "cell_type": "code",
   "execution_count": 14,
   "metadata": {},
   "outputs": [
    {
     "name": "stdout",
     "output_type": "stream",
     "text": [
      "168.91719\n"
     ]
    }
   ],
   "source": [
    "mse1=mse(y_test,y_pred)\n",
    "print(mse1)\n",
    "# mean squared error \n",
    "\n",
    "\n"
   ]
  },
  {
   "cell_type": "code",
   "execution_count": 15,
   "metadata": {},
   "outputs": [],
   "source": [
    "#repeating step 1-3 50 times"
   ]
  },
  {
   "cell_type": "code",
   "execution_count": 16,
   "metadata": {},
   "outputs": [
    {
     "name": "stdout",
     "output_type": "stream",
     "text": [
      "MSE 1: [101.69164552657736, 0.0]\n",
      "MSE 2: [105.0524427543566, 0.0]\n",
      "MSE 3: [82.64110384944188, 0.0]\n",
      "MSE 4: [85.18476238065553, 0.0]\n",
      "MSE 5: [81.96495387006345, 0.0]\n",
      "MSE 6: [75.93452485711057, 0.0]\n",
      "MSE 7: [85.08729543346418, 0.0]\n",
      "MSE 8: [59.59306809508685, 0.0]\n",
      "MSE 9: [67.03863382185162, 0.0]\n",
      "MSE 10: [72.15388190013306, 0.0]\n",
      "MSE 11: [53.98263246110342, 0.0032362460624426603]\n",
      "MSE 12: [51.30484486552118, 0.0]\n",
      "MSE 13: [56.43668032155453, 0.0]\n",
      "MSE 14: [55.148338231454005, 0.0]\n",
      "MSE 15: [49.055374565247966, 0.0]\n",
      "MSE 16: [42.97787736071738, 0.0]\n",
      "MSE 17: [43.967567690753626, 0.0]\n",
      "MSE 18: [51.091066786386435, 0.0]\n",
      "MSE 19: [44.737265108472705, 0.0]\n",
      "MSE 20: [46.24882344366277, 0.006472492124885321]\n",
      "MSE 21: [44.744821221311504, 0.0]\n",
      "MSE 22: [45.42866985234628, 0.0]\n",
      "MSE 23: [42.095502341063664, 0.0032362460624426603]\n",
      "MSE 24: [44.29346641367693, 0.0032362460624426603]\n",
      "MSE 25: [46.495149544527614, 0.0]\n",
      "MSE 26: [46.07088122321564, 0.0]\n",
      "MSE 27: [50.56565493981815, 0.0]\n",
      "MSE 28: [41.871749563124574, 0.0032362460624426603]\n",
      "MSE 29: [50.00508458406023, 0.0]\n",
      "MSE 30: [47.2405109590697, 0.0]\n",
      "MSE 31: [47.61613795209471, 0.0032362460624426603]\n",
      "MSE 32: [38.71825626830067, 0.0]\n",
      "MSE 33: [44.40729873311558, 0.0]\n",
      "MSE 34: [44.37060907357719, 0.0]\n",
      "MSE 35: [47.24009803352232, 0.0]\n",
      "MSE 36: [49.87756994549896, 0.0]\n",
      "MSE 37: [47.61489732983043, 0.0]\n",
      "MSE 38: [48.37465994875022, 0.0]\n",
      "MSE 39: [45.22150833475551, 0.0]\n",
      "MSE 40: [40.16515630580075, 0.0032362460624426603]\n",
      "MSE 41: [50.31060262636845, 0.0032362460624426603]\n",
      "MSE 42: [41.59800262204266, 0.0032362460624426603]\n",
      "MSE 43: [42.53743800684858, 0.0]\n",
      "MSE 44: [48.13611738581488, 0.0]\n",
      "MSE 45: [49.563227039324815, 0.0]\n",
      "MSE 46: [45.61045778144911, 0.0]\n",
      "MSE 47: [41.424576064915335, 0.0]\n",
      "MSE 48: [43.541337429898455, 0.0032362460624426603]\n",
      "MSE 49: [40.13748989290404, 0.0]\n",
      "MSE 50: [44.397909503924424, 0.0]\n"
     ]
    }
   ],
   "source": [
    "mse_l=[]\n",
    "for i in range(0,50):\n",
    "    x_train,x_test,y_train,y_test=tts(x,y,test_size=0.3,random_state=i)\n",
    "    model.fit(x_train,y_train,epochs=50,verbose=0)\n",
    "    MSE=model.evaluate(x_test,y_test,verbose=0)\n",
    "    print(\"MSE \"+str(i+1)+\": \"+str(MSE))\n",
    "    y_pred=model.predict(x_test)\n",
    "    mse_=mse(y_test,y_pred)\n",
    "    mse_l.append(mse_)\n",
    "\n",
    "\n",
    "    \n",
    "    "
   ]
  },
  {
   "cell_type": "code",
   "execution_count": 17,
   "metadata": {},
   "outputs": [
    {
     "name": "stdout",
     "output_type": "stream",
     "text": [
      "44.39790890639901 \n",
      " \n",
      " 0.0\n"
     ]
    }
   ],
   "source": [
    "mse_l = np.array(mse_)\n",
    "mean = np.mean(mse_l)\n",
    "standard_deviation = np.std(mse_l)\n",
    "print(mean,'\\n','\\n', standard_deviation)"
   ]
  },
  {
   "cell_type": "markdown",
   "metadata": {},
   "source": [
    "# the error is 44.397 in this case."
   ]
  },
  {
   "cell_type": "code",
   "execution_count": null,
   "metadata": {},
   "outputs": [],
   "source": []
  }
 ],
 "metadata": {
  "kernelspec": {
   "display_name": "Python 3",
   "language": "python",
   "name": "python3"
  },
  "language_info": {
   "codemirror_mode": {
    "name": "ipython",
    "version": 3
   },
   "file_extension": ".py",
   "mimetype": "text/x-python",
   "name": "python",
   "nbconvert_exporter": "python",
   "pygments_lexer": "ipython3",
   "version": "3.7.4"
  }
 },
 "nbformat": 4,
 "nbformat_minor": 2
}
